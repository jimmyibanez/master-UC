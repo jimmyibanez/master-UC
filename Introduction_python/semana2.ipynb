{
 "cells": [
  {
   "cell_type": "markdown",
   "metadata": {},
   "source": [
    "### Semana 2 - Listas de listas"
   ]
  },
  {
   "cell_type": "code",
   "execution_count": 1,
   "metadata": {},
   "outputs": [
    {
     "name": "stdout",
     "output_type": "stream",
     "text": [
      "[['Nombre', 'Edad', 'Activo'], ['Alicia', 34, True], ['Bernardo', 40, False], ['Carolina', 39, False]]\n"
     ]
    }
   ],
   "source": [
    "lista_esperada=[['Nombre','Edad','Activo'],\n",
    "                ['Alicia',34,True],\n",
    "                ['Bernardo',40,False],\n",
    "                ['Carolina',39,False]]\n",
    "\n",
    "print(lista_esperada)"
   ]
  },
  {
   "cell_type": "markdown",
   "metadata": {},
   "source": [
    "Nuestra lista proveniente de un CSV"
   ]
  },
  {
   "cell_type": "code",
   "execution_count": 2,
   "metadata": {},
   "outputs": [],
   "source": [
    "informacion=\"Nombre,Edad,Activo\\nAlicia',34,True\\nBernardo',40,False\\nCarolina',39,False\""
   ]
  },
  {
   "cell_type": "code",
   "execution_count": null,
   "metadata": {},
   "outputs": [],
   "source": [
    "lista = informacion.split(\"\\n\")"
   ]
  },
  {
   "cell_type": "code",
   "execution_count": 1,
   "metadata": {},
   "outputs": [
    {
     "name": "stdout",
     "output_type": "stream",
     "text": [
      "[9, 2, 2, 9]\n",
      "[3, 4, 9, 2]\n",
      "[9, 9, 2, 1]\n",
      "[2, 2, 1, 0]\n"
     ]
    }
   ],
   "source": [
    "def colocar_numeros(tablero):\n",
    "    filas = len(tablero)\n",
    "    columnas = len(tablero[0])\n",
    "\n",
    "    for fila in range(filas):\n",
    "        for columna in range(columnas):\n",
    "            if tablero[fila][columna] == 9:  # Casilla con mina, saltar\n",
    "                continue\n",
    "\n",
    "            minas_cercanas = 0\n",
    "            for i in range(-1, 2):\n",
    "                for j in range(-1, 2):\n",
    "                    fila_vecina = fila + i\n",
    "                    columna_vecina = columna + j\n",
    "\n",
    "                    if 0 <= fila_vecina < filas and 0 <= columna_vecina < columnas:\n",
    "                        if tablero[fila_vecina][columna_vecina] == 9:\n",
    "                            minas_cercanas += 1\n",
    "\n",
    "            tablero[fila][columna] = minas_cercanas\n",
    "\n",
    "    return tablero\n",
    "\n",
    "# Ejemplo de uso\n",
    "tablero = [\n",
    "    [9, 0, 0, 9],\n",
    "    [0, 0, 9, 0],\n",
    "    [9, 9, 0, 0],\n",
    "    [0, 0, 0, 0]\n",
    "]\n",
    "\n",
    "nuevo_tablero = colocar_numeros(tablero)\n",
    "for fila in nuevo_tablero:\n",
    "    print(fila)\n"
   ]
  }
 ],
 "metadata": {
  "kernelspec": {
   "display_name": "Python 3",
   "language": "python",
   "name": "python3"
  },
  "language_info": {
   "codemirror_mode": {
    "name": "ipython",
    "version": 3
   },
   "file_extension": ".py",
   "mimetype": "text/x-python",
   "name": "python",
   "nbconvert_exporter": "python",
   "pygments_lexer": "ipython3",
   "version": "3.9.6"
  },
  "orig_nbformat": 4
 },
 "nbformat": 4,
 "nbformat_minor": 2
}
